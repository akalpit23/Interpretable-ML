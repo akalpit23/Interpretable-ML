{
  "cells": [
    {
      "cell_type": "markdown",
      "metadata": {
        "id": "view-in-github",
        "colab_type": "text"
      },
      "source": [
        "<a href=\"https://colab.research.google.com/github/akalpit23/Interpretable-ML/blob/main/Assignment_04_Interpretable_ML_2.ipynb\" target=\"_parent\"><img src=\"https://colab.research.google.com/assets/colab-badge.svg\" alt=\"Open In Colab\"/></a>"
      ]
    },
    {
      "cell_type": "markdown",
      "metadata": {
        "id": "aVw9qCsAjDHV"
      },
      "source": [
        "# AIPI 590 - XAI | Assignment #04\n",
        "\n",
        "\n",
        "\n",
        "## Akalpit Dawkhar\n",
        "\n",
        "### **Interpretable ML-2**\n",
        "\n",
        "### Overview"
      ]
    },
    {
      "cell_type": "code",
      "execution_count": null,
      "metadata": {
        "id": "RwMZ_4g-r6Eh",
        "outputId": "a8dafee4-f957-46ac-b7a2-14c1a5bd9e64"
      },
      "outputs": [
        {
          "name": "stdout",
          "output_type": "stream",
          "text": [
            "Requirement already satisfied: imodels in /Users/akalpitdawkhar/anaconda3/lib/python3.11/site-packages (1.4.6)\n",
            "Requirement already satisfied: matplotlib in /Users/akalpitdawkhar/anaconda3/lib/python3.11/site-packages (from imodels) (3.8.0)\n",
            "Requirement already satisfied: mlxtend>=0.18.0 in /Users/akalpitdawkhar/anaconda3/lib/python3.11/site-packages (from imodels) (0.23.1)\n",
            "Requirement already satisfied: numpy in /Users/akalpitdawkhar/anaconda3/lib/python3.11/site-packages (from imodels) (1.25.2)\n",
            "Requirement already satisfied: pandas in /Users/akalpitdawkhar/anaconda3/lib/python3.11/site-packages (from imodels) (1.5.3)\n",
            "Requirement already satisfied: requests in /Users/akalpitdawkhar/anaconda3/lib/python3.11/site-packages (from imodels) (2.31.0)\n",
            "Requirement already satisfied: scipy in /Users/akalpitdawkhar/anaconda3/lib/python3.11/site-packages (from imodels) (1.11.4)\n",
            "Requirement already satisfied: scikit-learn>=1.2.0 in /Users/akalpitdawkhar/anaconda3/lib/python3.11/site-packages (from imodels) (1.5.2)\n",
            "Requirement already satisfied: tqdm in /Users/akalpitdawkhar/anaconda3/lib/python3.11/site-packages (from imodels) (4.65.0)\n",
            "Requirement already satisfied: joblib>=0.13.2 in /Users/akalpitdawkhar/anaconda3/lib/python3.11/site-packages (from mlxtend>=0.18.0->imodels) (1.2.0)\n",
            "Requirement already satisfied: contourpy>=1.0.1 in /Users/akalpitdawkhar/anaconda3/lib/python3.11/site-packages (from matplotlib->imodels) (1.0.5)\n",
            "Requirement already satisfied: cycler>=0.10 in /Users/akalpitdawkhar/anaconda3/lib/python3.11/site-packages (from matplotlib->imodels) (0.11.0)\n",
            "Requirement already satisfied: fonttools>=4.22.0 in /Users/akalpitdawkhar/anaconda3/lib/python3.11/site-packages (from matplotlib->imodels) (4.25.0)\n",
            "Requirement already satisfied: kiwisolver>=1.0.1 in /Users/akalpitdawkhar/anaconda3/lib/python3.11/site-packages (from matplotlib->imodels) (1.4.4)\n",
            "Requirement already satisfied: packaging>=20.0 in /Users/akalpitdawkhar/anaconda3/lib/python3.11/site-packages (from matplotlib->imodels) (23.1)\n",
            "Requirement already satisfied: pillow>=6.2.0 in /Users/akalpitdawkhar/anaconda3/lib/python3.11/site-packages (from matplotlib->imodels) (9.4.0)\n",
            "Requirement already satisfied: pyparsing>=2.3.1 in /Users/akalpitdawkhar/anaconda3/lib/python3.11/site-packages (from matplotlib->imodels) (3.0.9)\n",
            "Requirement already satisfied: python-dateutil>=2.7 in /Users/akalpitdawkhar/anaconda3/lib/python3.11/site-packages (from matplotlib->imodels) (2.8.2)\n",
            "Requirement already satisfied: pytz>=2020.1 in /Users/akalpitdawkhar/anaconda3/lib/python3.11/site-packages (from pandas->imodels) (2023.3.post1)\n",
            "Requirement already satisfied: threadpoolctl>=3.1.0 in /Users/akalpitdawkhar/anaconda3/lib/python3.11/site-packages (from scikit-learn>=1.2.0->imodels) (3.5.0)\n",
            "Requirement already satisfied: charset-normalizer<4,>=2 in /Users/akalpitdawkhar/anaconda3/lib/python3.11/site-packages (from requests->imodels) (2.0.4)\n",
            "Requirement already satisfied: idna<4,>=2.5 in /Users/akalpitdawkhar/anaconda3/lib/python3.11/site-packages (from requests->imodels) (3.4)\n",
            "Requirement already satisfied: urllib3<3,>=1.21.1 in /Users/akalpitdawkhar/anaconda3/lib/python3.11/site-packages (from requests->imodels) (1.26.18)\n",
            "Requirement already satisfied: certifi>=2017.4.17 in /Users/akalpitdawkhar/anaconda3/lib/python3.11/site-packages (from requests->imodels) (2024.8.30)\n",
            "Requirement already satisfied: six>=1.5 in /Users/akalpitdawkhar/anaconda3/lib/python3.11/site-packages (from python-dateutil>=2.7->matplotlib->imodels) (1.16.0)\n",
            "Note: you may need to restart the kernel to use updated packages.\n"
          ]
        }
      ],
      "source": [
        "pip install imodels"
      ]
    },
    {
      "cell_type": "code",
      "execution_count": null,
      "metadata": {
        "id": "ZBfJDCaVi1K0"
      },
      "outputs": [],
      "source": [
        "import pandas as pd\n",
        "import numpy as np\n",
        "import matplotlib.pyplot as plt\n",
        "import seaborn as sns\n",
        "import shap\n",
        "import lime\n",
        "import sklearn\n",
        "from sklearn.model_selection import train_test_split\n",
        "from sklearn.preprocessing import StandardScaler"
      ]
    }
  ],
  "metadata": {
    "colab": {
      "provenance": [],
      "include_colab_link": true
    },
    "kernelspec": {
      "display_name": "Python 3",
      "name": "python3"
    },
    "language_info": {
      "codemirror_mode": {
        "name": "ipython",
        "version": 3
      },
      "file_extension": ".py",
      "mimetype": "text/x-python",
      "name": "python",
      "nbconvert_exporter": "python",
      "pygments_lexer": "ipython3",
      "version": "3.11.5"
    }
  },
  "nbformat": 4,
  "nbformat_minor": 0
}
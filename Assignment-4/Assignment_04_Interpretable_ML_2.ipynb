{
  "cells": [
    {
      "cell_type": "markdown",
      "metadata": {
        "colab_type": "text",
        "id": "view-in-github"
      },
      "source": [
        "<a href=\"https://colab.research.google.com/github/akalpit23/Interpretable-ML/blob/main/Assignment_04_Interpretable_ML_2.ipynb\" target=\"_parent\"><img src=\"https://colab.research.google.com/assets/colab-badge.svg\" alt=\"Open In Colab\"/></a>"
      ]
    },
    {
      "cell_type": "markdown",
      "metadata": {
        "id": "aVw9qCsAjDHV"
      },
      "source": [
        "# AIPI 590 - XAI | Assignment #04\n",
        "\n",
        "\n",
        "\n",
        "## Akalpit Dawkhar\n",
        "\n",
        "### **Interpretable ML-2**\n",
        "\n",
        "### Overview"
      ]
    },
    {
      "cell_type": "code",
      "execution_count": 42,
      "metadata": {
        "id": "ZBfJDCaVi1K0"
      },
      "outputs": [
        {
          "ename": "ImportError",
          "evalue": "cannot import name 'Iterable' from 'collections' (/Users/akalpitdawkhar/anaconda3/lib/python3.11/collections/__init__.py)",
          "output_type": "error",
          "traceback": [
            "\u001b[0;31m---------------------------------------------------------------------------\u001b[0m",
            "\u001b[0;31mImportError\u001b[0m                               Traceback (most recent call last)",
            "\u001b[1;32m/Users/akalpitdawkhar/Desktop/School/SEM 3/XAI/Interpretable-ML/Assignment-4/Assignment_04_Interpretable_ML_2.ipynb Cell 5\u001b[0m line \u001b[0;36m1\n\u001b[1;32m     <a href='vscode-notebook-cell:/Users/akalpitdawkhar/Desktop/School/SEM%203/XAI/Interpretable-ML/Assignment-4/Assignment_04_Interpretable_ML_2.ipynb#W3sZmlsZQ%3D%3D?line=11'>12</a>\u001b[0m \u001b[39mfrom\u001b[39;00m \u001b[39mimodels\u001b[39;00m \u001b[39mimport\u001b[39;00m  RuleFitRegressor\n\u001b[1;32m     <a href='vscode-notebook-cell:/Users/akalpitdawkhar/Desktop/School/SEM%203/XAI/Interpretable-ML/Assignment-4/Assignment_04_Interpretable_ML_2.ipynb#W3sZmlsZQ%3D%3D?line=12'>13</a>\u001b[0m \u001b[39mfrom\u001b[39;00m \u001b[39mrulefit\u001b[39;00m \u001b[39mimport\u001b[39;00m RuleFit\n\u001b[0;32m---> <a href='vscode-notebook-cell:/Users/akalpitdawkhar/Desktop/School/SEM%203/XAI/Interpretable-ML/Assignment-4/Assignment_04_Interpretable_ML_2.ipynb#W3sZmlsZQ%3D%3D?line=13'>14</a>\u001b[0m \u001b[39mfrom\u001b[39;00m \u001b[39mskrules\u001b[39;00m \u001b[39mimport\u001b[39;00m SkopeRulesClassifier\n",
            "File \u001b[0;32m~/anaconda3/lib/python3.11/site-packages/skrules/__init__.py:1\u001b[0m\n\u001b[0;32m----> 1\u001b[0m \u001b[39mfrom\u001b[39;00m \u001b[39m.\u001b[39;00m\u001b[39mskope_rules\u001b[39;00m \u001b[39mimport\u001b[39;00m SkopeRules\n\u001b[1;32m      2\u001b[0m \u001b[39mfrom\u001b[39;00m \u001b[39m.\u001b[39;00m\u001b[39mrule\u001b[39;00m \u001b[39mimport\u001b[39;00m Rule, replace_feature_name\n\u001b[1;32m      4\u001b[0m __all__ \u001b[39m=\u001b[39m [\u001b[39m'\u001b[39m\u001b[39mSkopeRules\u001b[39m\u001b[39m'\u001b[39m, \u001b[39m'\u001b[39m\u001b[39mRule\u001b[39m\u001b[39m'\u001b[39m]\n",
            "File \u001b[0;32m~/anaconda3/lib/python3.11/site-packages/skrules/skope_rules.py:2\u001b[0m\n\u001b[1;32m      1\u001b[0m \u001b[39mimport\u001b[39;00m \u001b[39mnumpy\u001b[39;00m \u001b[39mas\u001b[39;00m \u001b[39mnp\u001b[39;00m\n\u001b[0;32m----> 2\u001b[0m \u001b[39mfrom\u001b[39;00m \u001b[39mcollections\u001b[39;00m \u001b[39mimport\u001b[39;00m Counter, Iterable\n\u001b[1;32m      3\u001b[0m \u001b[39mimport\u001b[39;00m \u001b[39mpandas\u001b[39;00m\n\u001b[1;32m      4\u001b[0m \u001b[39mimport\u001b[39;00m \u001b[39mnumbers\u001b[39;00m\n",
            "\u001b[0;31mImportError\u001b[0m: cannot import name 'Iterable' from 'collections' (/Users/akalpitdawkhar/anaconda3/lib/python3.11/collections/__init__.py)"
          ]
        }
      ],
      "source": [
        "import pandas as pd\n",
        "import numpy as np\n",
        "import matplotlib.pyplot as plt\n",
        "import seaborn as sns\n",
        "import shap\n",
        "import lime\n",
        "import sklearn\n",
        "from sklearn.metrics import confusion_matrix, roc_curve, auc, accuracy_score, precision_recall_curve\n",
        "from sklearn.model_selection import train_test_split\n",
        "from sklearn.preprocessing import StandardScaler\n",
        "from sklearn.metrics import mean_absolute_error, mean_squared_error, r2_score\n",
        "from imodels import  RuleFitRegressor\n",
        "from rulefit import RuleFit\n",
        "from skrules import SkopeRulesClassifier"
      ]
    },
    {
      "cell_type": "code",
      "execution_count": 35,
      "metadata": {
        "id": "sVdMoMNmiw5s",
        "outputId": "5eb35046-7d22-4176-fe05-be2215dbf901"
      },
      "outputs": [
        {
          "name": "stdout",
          "output_type": "stream",
          "text": [
            "(1000, 31)\n",
            "   Time        V1        V2        V3        V4        V5        V6        V7  \\\n",
            "0   0.0 -1.359807 -0.072781  2.536347  1.378155 -0.338321  0.462388  0.239599   \n",
            "1   0.0  1.191857  0.266151  0.166480  0.448154  0.060018 -0.082361 -0.078803   \n",
            "2   1.0 -1.358354 -1.340163  1.773209  0.379780 -0.503198  1.800499  0.791461   \n",
            "3   1.0 -0.966272 -0.185226  1.792993 -0.863291 -0.010309  1.247203  0.237609   \n",
            "4   2.0 -1.158233  0.877737  1.548718  0.403034 -0.407193  0.095921  0.592941   \n",
            "\n",
            "         V8        V9  ...       V21       V22       V23       V24       V25  \\\n",
            "0  0.098698  0.363787  ... -0.018307  0.277838 -0.110474  0.066928  0.128539   \n",
            "1  0.085102 -0.255425  ... -0.225775 -0.638672  0.101288 -0.339846  0.167170   \n",
            "2  0.247676 -1.514654  ...  0.247998  0.771679  0.909412 -0.689281 -0.327642   \n",
            "3  0.377436 -1.387024  ... -0.108300  0.005274 -0.190321 -1.175575  0.647376   \n",
            "4 -0.270533  0.817739  ... -0.009431  0.798278 -0.137458  0.141267 -0.206010   \n",
            "\n",
            "        V26       V27       V28  Amount  Class  \n",
            "0 -0.189115  0.133558 -0.021053  149.62      0  \n",
            "1  0.125895 -0.008983  0.014724    2.69      0  \n",
            "2 -0.139097 -0.055353 -0.059752  378.66      0  \n",
            "3 -0.221929  0.062723  0.061458  123.50      0  \n",
            "4  0.502292  0.219422  0.215153   69.99      0  \n",
            "\n",
            "[5 rows x 31 columns]\n"
          ]
        },
        {
          "name": "stderr",
          "output_type": "stream",
          "text": [
            "/Users/akalpitdawkhar/anaconda3/lib/python3.11/site-packages/pandas/io/parsers/c_parser_wrapper.py:373: DeprecationWarning: np.find_common_type is deprecated.  Please use `np.result_type` or `np.promote_types`.\n",
            "See https://numpy.org/devdocs/release/1.25.0-notes.html and the docs for more information.  (Deprecated NumPy 1.25)\n",
            "  common_type = np.find_common_type(\n"
          ]
        }
      ],
      "source": [
        "# Load the dataset\n",
        "credit_card_data = pd.read_csv('creditcard.csv')[:1000]\n",
        "\n",
        "# Print the shape of the dataset\n",
        "print(credit_card_data.shape)\n",
        "\n",
        "# Print the first few rows of the dataset\n",
        "print(credit_card_data.head())\n",
        "\n",
        "\n",
        "# Split your data into training and test sets\n",
        "X_train, X_test, y_train, y_test = train_test_split(X, y, test_size=0.2, random_state=42)"
      ]
    },
    {
      "cell_type": "code",
      "execution_count": 36,
      "metadata": {},
      "outputs": [
        {
          "name": "stdout",
          "output_type": "stream",
          "text": [
            "(227845, 30)\n",
            "Index(['Time', 'V1', 'V2', 'V3', 'V4', 'V5', 'V6', 'V7', 'V8', 'V9', 'V10',\n",
            "       'V11', 'V12', 'V13', 'V14', 'V15', 'V16', 'V17', 'V18', 'V19', 'V20',\n",
            "       'V21', 'V22', 'V23', 'V24', 'V25', 'V26', 'V27', 'V28', 'Amount'],\n",
            "      dtype='object')\n"
          ]
        }
      ],
      "source": [
        "# Check the shape of your DataFrame\n",
        "print(X_train.shape)\n",
        "\n",
        "# Check the column names of your DataFrame\n",
        "print(X_train.columns)"
      ]
    },
    {
      "cell_type": "code",
      "execution_count": 37,
      "metadata": {
        "id": "Yi9_bea9iw5s"
      },
      "outputs": [],
      "source": [
        "# Load your data\n",
        "X = credit_card_data.drop('Class', axis=1)  # assuming 'Class' is your target variable\n",
        "y = credit_card_data['Class']\n",
        "\n",
        "# Initialize the RuleFitClassifier\n",
        "rf = RuleFitRegressor()\n",
        "\n",
        "# Fit the model to your data\n",
        "rf.fit(X_train, y_train)\n",
        "\n",
        "# Use the model to make predictions\n",
        "predictions = rf.predict(X_test)"
      ]
    },
    {
      "cell_type": "code",
      "execution_count": 32,
      "metadata": {},
      "outputs": [
        {
          "data": {
            "text/html": [
              "<div>\n",
              "<style scoped>\n",
              "    .dataframe tbody tr th:only-of-type {\n",
              "        vertical-align: middle;\n",
              "    }\n",
              "\n",
              "    .dataframe tbody tr th {\n",
              "        vertical-align: top;\n",
              "    }\n",
              "\n",
              "    .dataframe thead th {\n",
              "        text-align: right;\n",
              "    }\n",
              "</style>\n",
              "<table border=\"1\" class=\"dataframe\">\n",
              "  <thead>\n",
              "    <tr style=\"text-align: right;\">\n",
              "      <th></th>\n",
              "      <th>rule</th>\n",
              "      <th>coef</th>\n",
              "    </tr>\n",
              "  </thead>\n",
              "  <tbody>\n",
              "    <tr>\n",
              "      <th>1</th>\n",
              "      <td>V1</td>\n",
              "      <td>-0.00</td>\n",
              "    </tr>\n",
              "    <tr>\n",
              "      <th>11</th>\n",
              "      <td>V11</td>\n",
              "      <td>0.00</td>\n",
              "    </tr>\n",
              "    <tr>\n",
              "      <th>2</th>\n",
              "      <td>V2</td>\n",
              "      <td>0.00</td>\n",
              "    </tr>\n",
              "    <tr>\n",
              "      <th>19</th>\n",
              "      <td>V19</td>\n",
              "      <td>0.00</td>\n",
              "    </tr>\n",
              "    <tr>\n",
              "      <th>18</th>\n",
              "      <td>V18</td>\n",
              "      <td>-0.00</td>\n",
              "    </tr>\n",
              "    <tr>\n",
              "      <th>17</th>\n",
              "      <td>V17</td>\n",
              "      <td>-0.00</td>\n",
              "    </tr>\n",
              "    <tr>\n",
              "      <th>16</th>\n",
              "      <td>V16</td>\n",
              "      <td>-0.00</td>\n",
              "    </tr>\n",
              "    <tr>\n",
              "      <th>14</th>\n",
              "      <td>V14</td>\n",
              "      <td>-0.00</td>\n",
              "    </tr>\n",
              "    <tr>\n",
              "      <th>12</th>\n",
              "      <td>V12</td>\n",
              "      <td>-0.00</td>\n",
              "    </tr>\n",
              "    <tr>\n",
              "      <th>21</th>\n",
              "      <td>V21</td>\n",
              "      <td>0.00</td>\n",
              "    </tr>\n",
              "    <tr>\n",
              "      <th>10</th>\n",
              "      <td>V10</td>\n",
              "      <td>-0.00</td>\n",
              "    </tr>\n",
              "    <tr>\n",
              "      <th>7</th>\n",
              "      <td>V7</td>\n",
              "      <td>-0.00</td>\n",
              "    </tr>\n",
              "    <tr>\n",
              "      <th>6</th>\n",
              "      <td>V6</td>\n",
              "      <td>-0.00</td>\n",
              "    </tr>\n",
              "    <tr>\n",
              "      <th>5</th>\n",
              "      <td>V5</td>\n",
              "      <td>-0.00</td>\n",
              "    </tr>\n",
              "    <tr>\n",
              "      <th>4</th>\n",
              "      <td>V4</td>\n",
              "      <td>0.00</td>\n",
              "    </tr>\n",
              "    <tr>\n",
              "      <th>3</th>\n",
              "      <td>V3</td>\n",
              "      <td>-0.00</td>\n",
              "    </tr>\n",
              "    <tr>\n",
              "      <th>9</th>\n",
              "      <td>V9</td>\n",
              "      <td>-0.00</td>\n",
              "    </tr>\n",
              "    <tr>\n",
              "      <th>37</th>\n",
              "      <td>V12 &gt; -5.02556 and V17 &gt; -3.57891</td>\n",
              "      <td>-0.24</td>\n",
              "    </tr>\n",
              "    <tr>\n",
              "      <th>36</th>\n",
              "      <td>V14 &gt; -6.25677 and V17 &gt; -3.79982</td>\n",
              "      <td>-0.04</td>\n",
              "    </tr>\n",
              "    <tr>\n",
              "      <th>35</th>\n",
              "      <td>V14 &gt; -6.85729 and V17 &gt; -3.05239</td>\n",
              "      <td>-0.02</td>\n",
              "    </tr>\n",
              "    <tr>\n",
              "      <th>30</th>\n",
              "      <td>V11 &lt;= 3.97542 and V17 &gt; -2.23522</td>\n",
              "      <td>-0.03</td>\n",
              "    </tr>\n",
              "    <tr>\n",
              "      <th>39</th>\n",
              "      <td>V14 &gt; -5.12781 and V17 &gt; -2.81901</td>\n",
              "      <td>-0.05</td>\n",
              "    </tr>\n",
              "    <tr>\n",
              "      <th>38</th>\n",
              "      <td>V10 &gt; -3.24595</td>\n",
              "      <td>-0.01</td>\n",
              "    </tr>\n",
              "    <tr>\n",
              "      <th>31</th>\n",
              "      <td>V17 &gt; -2.57236 and V4 &lt;= 5.44723</td>\n",
              "      <td>-0.03</td>\n",
              "    </tr>\n",
              "    <tr>\n",
              "      <th>34</th>\n",
              "      <td>V12 &gt; -3.46131</td>\n",
              "      <td>-0.00</td>\n",
              "    </tr>\n",
              "    <tr>\n",
              "      <th>32</th>\n",
              "      <td>V14 &gt; -5.26247 and V16 &gt; -2.15186</td>\n",
              "      <td>-0.00</td>\n",
              "    </tr>\n",
              "    <tr>\n",
              "      <th>33</th>\n",
              "      <td>V12 &gt; -4.55052 and V4 &lt;= 2.51815</td>\n",
              "      <td>-0.00</td>\n",
              "    </tr>\n",
              "    <tr>\n",
              "      <th>40</th>\n",
              "      <td>V12 &lt;= -3.46131</td>\n",
              "      <td>0.01</td>\n",
              "    </tr>\n",
              "    <tr>\n",
              "      <th>41</th>\n",
              "      <td>V10 &lt;= -3.24595</td>\n",
              "      <td>0.00</td>\n",
              "    </tr>\n",
              "    <tr>\n",
              "      <th>45</th>\n",
              "      <td>V14 &lt;= -4.23825 and V7 &lt;= 1.27495</td>\n",
              "      <td>0.21</td>\n",
              "    </tr>\n",
              "    <tr>\n",
              "      <th>43</th>\n",
              "      <td>V14 &lt;= -4.54171 and V21 &gt; -0.12291</td>\n",
              "      <td>0.10</td>\n",
              "    </tr>\n",
              "    <tr>\n",
              "      <th>44</th>\n",
              "      <td>V14 &lt;= -6.1807 and V26 &gt; -0.27298</td>\n",
              "      <td>0.03</td>\n",
              "    </tr>\n",
              "    <tr>\n",
              "      <th>42</th>\n",
              "      <td>V14 &lt;= -5.12781 and V20 &lt;= 0.79804 and V5 &lt;= 2.77373</td>\n",
              "      <td>0.01</td>\n",
              "    </tr>\n",
              "  </tbody>\n",
              "</table>\n",
              "</div>"
            ],
            "text/plain": [
              "                                                    rule  coef\n",
              "1                                                     V1 -0.00\n",
              "11                                                   V11  0.00\n",
              "2                                                     V2  0.00\n",
              "19                                                   V19  0.00\n",
              "18                                                   V18 -0.00\n",
              "17                                                   V17 -0.00\n",
              "16                                                   V16 -0.00\n",
              "14                                                   V14 -0.00\n",
              "12                                                   V12 -0.00\n",
              "21                                                   V21  0.00\n",
              "10                                                   V10 -0.00\n",
              "7                                                     V7 -0.00\n",
              "6                                                     V6 -0.00\n",
              "5                                                     V5 -0.00\n",
              "4                                                     V4  0.00\n",
              "3                                                     V3 -0.00\n",
              "9                                                     V9 -0.00\n",
              "37                     V12 > -5.02556 and V17 > -3.57891 -0.24\n",
              "36                     V14 > -6.25677 and V17 > -3.79982 -0.04\n",
              "35                     V14 > -6.85729 and V17 > -3.05239 -0.02\n",
              "30                     V11 <= 3.97542 and V17 > -2.23522 -0.03\n",
              "39                     V14 > -5.12781 and V17 > -2.81901 -0.05\n",
              "38                                        V10 > -3.24595 -0.01\n",
              "31                      V17 > -2.57236 and V4 <= 5.44723 -0.03\n",
              "34                                        V12 > -3.46131 -0.00\n",
              "32                     V14 > -5.26247 and V16 > -2.15186 -0.00\n",
              "33                      V12 > -4.55052 and V4 <= 2.51815 -0.00\n",
              "40                                       V12 <= -3.46131  0.01\n",
              "41                                       V10 <= -3.24595  0.00\n",
              "45                     V14 <= -4.23825 and V7 <= 1.27495  0.21\n",
              "43                    V14 <= -4.54171 and V21 > -0.12291  0.10\n",
              "44                     V14 <= -6.1807 and V26 > -0.27298  0.03\n",
              "42  V14 <= -5.12781 and V20 <= 0.79804 and V5 <= 2.77373  0.01"
            ]
          },
          "execution_count": 32,
          "metadata": {},
          "output_type": "execute_result"
        }
      ],
      "source": [
        "rule_df = rf.visualize()\n",
        "rule_df"
      ]
    },
    {
      "cell_type": "code",
      "execution_count": 30,
      "metadata": {},
      "outputs": [
        {
          "name": "stdout",
          "output_type": "stream",
          "text": [
            "MAE: 0.002765304695129495\n",
            "MSE: 0.000635240249565219\n",
            "R2 Score: 0.6301335109327806\n"
          ]
        }
      ],
      "source": [
        "# Calculate the mean absolute error\n",
        "mae = mean_absolute_error(y_test, predictions)\n",
        "\n",
        "# Calculate the mean squared error\n",
        "mse = mean_squared_error(y_test, predictions)\n",
        "\n",
        "# Calculate the R-squared score\n",
        "r2 = r2_score(y_test, predictions)\n",
        "\n",
        "# Print the metrics\n",
        "print(f'MAE: {mae}')\n",
        "print(f'MSE: {mse}')\n",
        "print(f'R2 Score: {r2}')"
      ]
    },
    {
      "cell_type": "code",
      "execution_count": 38,
      "metadata": {},
      "outputs": [
        {
          "ename": "NameError",
          "evalue": "name 'SkopeRulesClassifier' is not defined",
          "output_type": "error",
          "traceback": [
            "\u001b[0;31m---------------------------------------------------------------------------\u001b[0m",
            "\u001b[0;31mNameError\u001b[0m                                 Traceback (most recent call last)",
            "\u001b[1;32m/Users/akalpitdawkhar/Desktop/School/SEM 3/XAI/Interpretable-ML/Assignment-4/Assignment_04_Interpretable_ML_2.ipynb Cell 11\u001b[0m line \u001b[0;36m1\n\u001b[0;32m----> <a href='vscode-notebook-cell:/Users/akalpitdawkhar/Desktop/School/SEM%203/XAI/Interpretable-ML/Assignment-4/Assignment_04_Interpretable_ML_2.ipynb#X26sZmlsZQ%3D%3D?line=0'>1</a>\u001b[0m clf \u001b[39m=\u001b[39m SkopeRulesClassifier(max_depth_duplication\u001b[39m=\u001b[39m\u001b[39mNone\u001b[39;00m,\n\u001b[1;32m      <a href='vscode-notebook-cell:/Users/akalpitdawkhar/Desktop/School/SEM%203/XAI/Interpretable-ML/Assignment-4/Assignment_04_Interpretable_ML_2.ipynb#X26sZmlsZQ%3D%3D?line=1'>2</a>\u001b[0m                  n_estimators\u001b[39m=\u001b[39m\u001b[39m30\u001b[39m,\n\u001b[1;32m      <a href='vscode-notebook-cell:/Users/akalpitdawkhar/Desktop/School/SEM%203/XAI/Interpretable-ML/Assignment-4/Assignment_04_Interpretable_ML_2.ipynb#X26sZmlsZQ%3D%3D?line=2'>3</a>\u001b[0m                  precision_min\u001b[39m=\u001b[39m\u001b[39m0.2\u001b[39m,\n\u001b[1;32m      <a href='vscode-notebook-cell:/Users/akalpitdawkhar/Desktop/School/SEM%203/XAI/Interpretable-ML/Assignment-4/Assignment_04_Interpretable_ML_2.ipynb#X26sZmlsZQ%3D%3D?line=3'>4</a>\u001b[0m                  recall_min\u001b[39m=\u001b[39m\u001b[39m0.01\u001b[39m,\n\u001b[1;32m      <a href='vscode-notebook-cell:/Users/akalpitdawkhar/Desktop/School/SEM%203/XAI/Interpretable-ML/Assignment-4/Assignment_04_Interpretable_ML_2.ipynb#X26sZmlsZQ%3D%3D?line=4'>5</a>\u001b[0m                  feature_names\u001b[39m=\u001b[39mdataset\u001b[39m.\u001b[39mfeature_names)\n\u001b[1;32m      <a href='vscode-notebook-cell:/Users/akalpitdawkhar/Desktop/School/SEM%203/XAI/Interpretable-ML/Assignment-4/Assignment_04_Interpretable_ML_2.ipynb#X26sZmlsZQ%3D%3D?line=6'>7</a>\u001b[0m X, y \u001b[39m=\u001b[39m credit_card_data\u001b[39m.\u001b[39mdata, credit_card_data\u001b[39m.\u001b[39mtarget \u001b[39m>\u001b[39m \u001b[39m25\u001b[39m\n\u001b[1;32m      <a href='vscode-notebook-cell:/Users/akalpitdawkhar/Desktop/School/SEM%203/XAI/Interpretable-ML/Assignment-4/Assignment_04_Interpretable_ML_2.ipynb#X26sZmlsZQ%3D%3D?line=7'>8</a>\u001b[0m X_train, y_train \u001b[39m=\u001b[39m X[:\u001b[39mlen\u001b[39m(y)\u001b[39m/\u001b[39m\u001b[39m/\u001b[39m\u001b[39m2\u001b[39m], y[:\u001b[39mlen\u001b[39m(y)\u001b[39m/\u001b[39m\u001b[39m/\u001b[39m\u001b[39m2\u001b[39m]\n",
            "\u001b[0;31mNameError\u001b[0m: name 'SkopeRulesClassifier' is not defined"
          ]
        }
      ],
      "source": [
        "clf = SkopeRulesClassifier(max_depth_duplication=None,\n",
        "                 n_estimators=30,\n",
        "                 precision_min=0.2,\n",
        "                 recall_min=0.01,\n",
        "                 feature_names=dataset.feature_names)\n",
        "\n",
        "X, y = credit_card_data.data, credit_card_data.target > 25\n",
        "X_train, y_train = X[:len(y)//2], y[:len(y)//2]\n",
        "X_test, y_test = X[len(y)//2:], y[len(y)//2:]\n",
        "clf.fit(X_train, y_train)\n",
        "y_score = clf._score_top_rules(X_test) # Get a risk score for each test example\n",
        "precision, recall, _ = precision_recall_curve(y_test, y_score)\n",
        "plt.plot(recall, precision)\n",
        "plt.xlabel('Recall')\n",
        "plt.ylabel('Precision')\n",
        "plt.title('Precision Recall curve')\n",
        "plt.show()\n"
      ]
    }
  ],
  "metadata": {
    "colab": {
      "include_colab_link": true,
      "provenance": []
    },
    "kernelspec": {
      "display_name": "Python 3",
      "name": "python3"
    },
    "language_info": {
      "codemirror_mode": {
        "name": "ipython",
        "version": 3
      },
      "file_extension": ".py",
      "mimetype": "text/x-python",
      "name": "python",
      "nbconvert_exporter": "python",
      "pygments_lexer": "ipython3",
      "version": "3.11.5"
    }
  },
  "nbformat": 4,
  "nbformat_minor": 0
}

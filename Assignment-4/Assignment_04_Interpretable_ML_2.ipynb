{
  "cells": [
    {
      "cell_type": "markdown",
      "metadata": {
        "id": "view-in-github",
        "colab_type": "text"
      },
      "source": [
        "<a href=\"https://colab.research.google.com/github/akalpit23/Interpretable-ML/blob/main/Assignment_04_Interpretable_ML_2.ipynb\" target=\"_parent\"><img src=\"https://colab.research.google.com/assets/colab-badge.svg\" alt=\"Open In Colab\"/></a>"
      ]
    },
    {
      "cell_type": "markdown",
      "metadata": {
        "id": "aVw9qCsAjDHV"
      },
      "source": [
        "# AIPI 590 - XAI | Assignment #04\n",
        "\n",
        "\n",
        "\n",
        "## Akalpit Dawkhar\n",
        "\n",
        "### **Interpretable ML-2**\n",
        "\n",
        "### Overview"
      ]
    },
    {
      "cell_type": "code",
      "execution_count": null,
      "metadata": {
        "id": "RwMZ_4g-r6Eh",
        "outputId": "a8dafee4-f957-46ac-b7a2-14c1a5bd9e64"
      },
      "outputs": [
        {
          "name": "stdout",
          "output_type": "stream",
          "text": [
            "Requirement already satisfied: imodels in /Users/akalpitdawkhar/anaconda3/lib/python3.11/site-packages (1.4.6)\n",
            "Requirement already satisfied: matplotlib in /Users/akalpitdawkhar/anaconda3/lib/python3.11/site-packages (from imodels) (3.8.0)\n",
            "Requirement already satisfied: mlxtend>=0.18.0 in /Users/akalpitdawkhar/anaconda3/lib/python3.11/site-packages (from imodels) (0.23.1)\n",
            "Requirement already satisfied: numpy in /Users/akalpitdawkhar/anaconda3/lib/python3.11/site-packages (from imodels) (1.25.2)\n",
            "Requirement already satisfied: pandas in /Users/akalpitdawkhar/anaconda3/lib/python3.11/site-packages (from imodels) (1.5.3)\n",
            "Requirement already satisfied: requests in /Users/akalpitdawkhar/anaconda3/lib/python3.11/site-packages (from imodels) (2.31.0)\n",
            "Requirement already satisfied: scipy in /Users/akalpitdawkhar/anaconda3/lib/python3.11/site-packages (from imodels) (1.11.4)\n",
            "Requirement already satisfied: scikit-learn>=1.2.0 in /Users/akalpitdawkhar/anaconda3/lib/python3.11/site-packages (from imodels) (1.5.2)\n",
            "Requirement already satisfied: tqdm in /Users/akalpitdawkhar/anaconda3/lib/python3.11/site-packages (from imodels) (4.65.0)\n",
            "Requirement already satisfied: joblib>=0.13.2 in /Users/akalpitdawkhar/anaconda3/lib/python3.11/site-packages (from mlxtend>=0.18.0->imodels) (1.2.0)\n",
            "Requirement already satisfied: contourpy>=1.0.1 in /Users/akalpitdawkhar/anaconda3/lib/python3.11/site-packages (from matplotlib->imodels) (1.0.5)\n",
            "Requirement already satisfied: cycler>=0.10 in /Users/akalpitdawkhar/anaconda3/lib/python3.11/site-packages (from matplotlib->imodels) (0.11.0)\n",
            "Requirement already satisfied: fonttools>=4.22.0 in /Users/akalpitdawkhar/anaconda3/lib/python3.11/site-packages (from matplotlib->imodels) (4.25.0)\n",
            "Requirement already satisfied: kiwisolver>=1.0.1 in /Users/akalpitdawkhar/anaconda3/lib/python3.11/site-packages (from matplotlib->imodels) (1.4.4)\n",
            "Requirement already satisfied: packaging>=20.0 in /Users/akalpitdawkhar/anaconda3/lib/python3.11/site-packages (from matplotlib->imodels) (23.1)\n",
            "Requirement already satisfied: pillow>=6.2.0 in /Users/akalpitdawkhar/anaconda3/lib/python3.11/site-packages (from matplotlib->imodels) (9.4.0)\n",
            "Requirement already satisfied: pyparsing>=2.3.1 in /Users/akalpitdawkhar/anaconda3/lib/python3.11/site-packages (from matplotlib->imodels) (3.0.9)\n",
            "Requirement already satisfied: python-dateutil>=2.7 in /Users/akalpitdawkhar/anaconda3/lib/python3.11/site-packages (from matplotlib->imodels) (2.8.2)\n",
            "Requirement already satisfied: pytz>=2020.1 in /Users/akalpitdawkhar/anaconda3/lib/python3.11/site-packages (from pandas->imodels) (2023.3.post1)\n",
            "Requirement already satisfied: threadpoolctl>=3.1.0 in /Users/akalpitdawkhar/anaconda3/lib/python3.11/site-packages (from scikit-learn>=1.2.0->imodels) (3.5.0)\n",
            "Requirement already satisfied: charset-normalizer<4,>=2 in /Users/akalpitdawkhar/anaconda3/lib/python3.11/site-packages (from requests->imodels) (2.0.4)\n",
            "Requirement already satisfied: idna<4,>=2.5 in /Users/akalpitdawkhar/anaconda3/lib/python3.11/site-packages (from requests->imodels) (3.4)\n",
            "Requirement already satisfied: urllib3<3,>=1.21.1 in /Users/akalpitdawkhar/anaconda3/lib/python3.11/site-packages (from requests->imodels) (1.26.18)\n",
            "Requirement already satisfied: certifi>=2017.4.17 in /Users/akalpitdawkhar/anaconda3/lib/python3.11/site-packages (from requests->imodels) (2024.8.30)\n",
            "Requirement already satisfied: six>=1.5 in /Users/akalpitdawkhar/anaconda3/lib/python3.11/site-packages (from python-dateutil>=2.7->matplotlib->imodels) (1.16.0)\n",
            "Note: you may need to restart the kernel to use updated packages.\n"
          ]
        }
      ],
      "source": [
        "pip install imodels"
      ]
    },
    {
      "cell_type": "code",
      "execution_count": null,
      "metadata": {
        "id": "ZBfJDCaVi1K0"
      },
      "outputs": [],
      "source": [
        "import pandas as pd\n",
        "import numpy as np\n",
        "import matplotlib.pyplot as plt\n",
        "import seaborn as sns\n",
        "import shap\n",
        "import lime\n",
        "import sklearn\n",
        "from sklearn.model_selection import train_test_split\n",
        "from sklearn.preprocessing import StandardScaler\n",
        "\n"
      ]
    },
    {
      "cell_type": "code",
      "execution_count": null,
      "metadata": {
        "id": "sVdMoMNmiw5s",
        "outputId": "5eb35046-7d22-4176-fe05-be2215dbf901"
      },
      "outputs": [
        {
          "name": "stdout",
          "output_type": "stream",
          "text": [
            "(1797, 64)\n",
            ".. _digits_dataset:\n",
            "\n",
            "Optical recognition of handwritten digits dataset\n",
            "--------------------------------------------------\n",
            "\n",
            "**Data Set Characteristics:**\n",
            "\n",
            ":Number of Instances: 1797\n",
            ":Number of Attributes: 64\n",
            ":Attribute Information: 8x8 image of integer pixels in the range 0..16.\n",
            ":Missing Attribute Values: None\n",
            ":Creator: E. Alpaydin (alpaydin '@' boun.edu.tr)\n",
            ":Date: July; 1998\n",
            "\n",
            "This is a copy of the test set of the UCI ML hand-written digits datasets\n",
            "https://archive.ics.uci.edu/ml/datasets/Optical+Recognition+of+Handwritten+Digits\n",
            "\n",
            "The data set contains images of hand-written digits: 10 classes where\n",
            "each class refers to a digit.\n",
            "\n",
            "Preprocessing programs made available by NIST were used to extract\n",
            "normalized bitmaps of handwritten digits from a preprinted form. From a\n",
            "total of 43 people, 30 contributed to the training set and different 13\n",
            "to the test set. 32x32 bitmaps are divided into nonoverlapping blocks of\n",
            "4x4 and the number of on pixels are counted in each block. This generates\n",
            "an input matrix of 8x8 where each element is an integer in the range\n",
            "0..16. This reduces dimensionality and gives invariance to small\n",
            "distortions.\n",
            "\n",
            "For info on NIST preprocessing routines, see M. D. Garris, J. L. Blue, G.\n",
            "T. Candela, D. L. Dimmick, J. Geist, P. J. Grother, S. A. Janet, and C.\n",
            "L. Wilson, NIST Form-Based Handprint Recognition System, NISTIR 5469,\n",
            "1994.\n",
            "\n",
            ".. dropdown:: References\n",
            "\n",
            "  - C. Kaynak (1995) Methods of Combining Multiple Classifiers and Their\n",
            "    Applications to Handwritten Digit Recognition, MSc Thesis, Institute of\n",
            "    Graduate Studies in Science and Engineering, Bogazici University.\n",
            "  - E. Alpaydin, C. Kaynak (1998) Cascading Classifiers, Kybernetika.\n",
            "  - Ken Tang and Ponnuthurai N. Suganthan and Xi Yao and A. Kai Qin.\n",
            "    Linear dimensionalityreduction using relevance weighted LDA. School of\n",
            "    Electrical and Electronic Engineering Nanyang Technological University.\n",
            "    2005.\n",
            "  - Claudio Gentile. A New Approximate Maximal Margin Classification\n",
            "    Algorithm. NIPS. 2000.\n",
            "\n"
          ]
        },
        {
          "data": {
            "image/png": "[encoded data removed]",
            "text/plain": [
              "<Figure size 640x480 with 1 Axes>"
            ]
          },
          "metadata": {},
          "output_type": "display_data"
        },
        {
          "data": {
            "image/png": "[encoded data removed]",
            "text/plain": [
              "<Figure size 640x480 with 1 Axes>"
            ]
          },
          "metadata": {},
          "output_type": "display_data"
        }
      ],
      "source": [
        "#load an image dataset\n",
        "from sklearn.datasets import load_digits\n",
        "\n",
        "#load the dataset\n",
        "digits = load_digits()\n",
        "\n",
        "#print the shape of the dataset\n",
        "print(digits.data.shape)\n",
        "\n",
        "# print dataset description\n",
        "print(digits.DESCR)\n",
        "\n",
        "#print the first image\n",
        "plt.imshow(digits.images[0], cmap=plt.cm.gray_r, interpolation='nearest')\n",
        "plt.show()\n",
        "\n",
        "#print the first image\n",
        "plt.imshow(digits.images[0], cmap=plt.cm.gray_r, interpolation='nearest')\n",
        "plt.show()"
      ]
    },
    {
      "cell_type": "code",
      "execution_count": null,
      "metadata": {
        "id": "Yi9_bea9iw5s"
      },
      "outputs": [],
      "source": []
    }
  ],
  "metadata": {
    "colab": {
      "provenance": [],
      "include_colab_link": true
    },
    "kernelspec": {
      "display_name": "Python 3",
      "name": "python3"
    },
    "language_info": {
      "codemirror_mode": {
        "name": "ipython",
        "version": 3
      },
      "file_extension": ".py",
      "mimetype": "text/x-python",
      "name": "python",
      "nbconvert_exporter": "python",
      "pygments_lexer": "ipython3",
      "version": "3.11.5"
    }
  },
  "nbformat": 4,
  "nbformat_minor": 0
}
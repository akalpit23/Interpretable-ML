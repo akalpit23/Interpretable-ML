{
  "cells": [
    {
      "cell_type": "markdown",
      "metadata": {
        "colab_type": "text",
        "id": "view-in-github"
      },
      "source": [
        "<a href=\"https://colab.research.google.com/github/akalpit23/Interpretable-ML/blob/main/Assignment_04_Interpretable_ML_2.ipynb\" target=\"_parent\"><img src=\"https://colab.research.google.com/assets/colab-badge.svg\" alt=\"Open In Colab\"/></a>"
      ]
    },
    {
      "cell_type": "markdown",
      "metadata": {
        "id": "aVw9qCsAjDHV"
      },
      "source": [
        "# AIPI 590 - XAI | Assignment #04\n",
        "\n",
        "\n",
        "\n",
        "## Akalpit Dawkhar\n",
        "\n",
        "### **Interpretable ML-2**\n",
        "\n",
        "### Overview"
      ]
    },
    {
      "cell_type": "code",
      "execution_count": 2,
      "metadata": {},
      "outputs": [
        {
          "name": "stdout",
          "output_type": "stream",
          "text": [
            "Requirement already satisfied: skope-rules in /Users/akalpitdawkhar/anaconda3/lib/python3.11/site-packages (1.0.1)\n",
            "Requirement already satisfied: numpy>=1.10.4 in /Users/akalpitdawkhar/anaconda3/lib/python3.11/site-packages (from skope-rules) (1.25.2)\n",
            "Requirement already satisfied: scikit-learn>=0.17.1 in /Users/akalpitdawkhar/anaconda3/lib/python3.11/site-packages (from skope-rules) (1.5.2)\n",
            "Requirement already satisfied: scipy>=0.17.0 in /Users/akalpitdawkhar/anaconda3/lib/python3.11/site-packages (from skope-rules) (1.11.4)\n",
            "Requirement already satisfied: pandas>=0.18.1 in /Users/akalpitdawkhar/anaconda3/lib/python3.11/site-packages (from skope-rules) (1.5.3)\n",
            "Requirement already satisfied: python-dateutil>=2.8.1 in /Users/akalpitdawkhar/anaconda3/lib/python3.11/site-packages (from pandas>=0.18.1->skope-rules) (2.8.2)\n",
            "Requirement already satisfied: pytz>=2020.1 in /Users/akalpitdawkhar/anaconda3/lib/python3.11/site-packages (from pandas>=0.18.1->skope-rules) (2023.3.post1)\n",
            "Requirement already satisfied: joblib>=1.2.0 in /Users/akalpitdawkhar/anaconda3/lib/python3.11/site-packages (from scikit-learn>=0.17.1->skope-rules) (1.2.0)\n",
            "Requirement already satisfied: threadpoolctl>=3.1.0 in /Users/akalpitdawkhar/anaconda3/lib/python3.11/site-packages (from scikit-learn>=0.17.1->skope-rules) (3.5.0)\n",
            "Requirement already satisfied: six>=1.5 in /Users/akalpitdawkhar/anaconda3/lib/python3.11/site-packages (from python-dateutil>=2.8.1->pandas>=0.18.1->skope-rules) (1.16.0)\n",
            "Note: you may need to restart the kernel to use updated packages.\n"
          ]
        }
      ],
      "source": [
        "pip install --upgrade skope-rules"
      ]
    },
    {
      "cell_type": "code",
      "execution_count": 22,
      "metadata": {
        "id": "ZBfJDCaVi1K0"
      },
      "outputs": [],
      "source": [
        "import pandas as pd\n",
        "import numpy as np\n",
        "import matplotlib.pyplot as plt\n",
        "import seaborn as sns\n",
        "import shap\n",
        "import lime\n",
        "import sklearn\n",
        "from sklearn.metrics import confusion_matrix, roc_curve, auc, accuracy_score, precision_recall_curve\n",
        "from sklearn.model_selection import train_test_split\n",
        "from sklearn.preprocessing import StandardScaler\n",
        "from sklearn.metrics import mean_absolute_error, mean_squared_error, r2_score\n",
        "import six\n",
        "from imodels import  RuleFitRegressor\n",
        "from rulefit import RuleFit\n",
        "from skrules import SkopeRules\n",
        "from skrules import SkopeRules as SkopeRulesClassifier"
      ]
    },
    {
      "cell_type": "code",
      "execution_count": 13,
      "metadata": {
        "id": "sVdMoMNmiw5s",
        "outputId": "5eb35046-7d22-4176-fe05-be2215dbf901"
      },
      "outputs": [
        {
          "name": "stdout",
          "output_type": "stream",
          "text": [
            "(10000, 12)\n",
            "              Item Category  Gold  Silver  Platinum  Rhodium  Nickel   Tin  \\\n",
            "0        iPhone 11     Cat3  3.58    2.95      1.73     8.92    1.91  1.01   \n",
            "1          Toaster     Cat2  7.21    4.31      6.21     5.63    9.59  7.65   \n",
            "2          Speaker     Cat4  8.91    5.09      2.42     7.70    1.09  1.49   \n",
            "3   Microwave Oven     Cat2  2.62    3.84      2.98     7.66    9.41  2.25   \n",
            "4  Air Conditioner     Cat1  3.47    3.89      6.20     4.35    5.07  8.65   \n",
            "\n",
            "   Lithium  Aluminum  Carbon  Profit ($)  \n",
            "0     1.82      1.27    9.51      270.34  \n",
            "1     0.51      3.03    4.22      689.75  \n",
            "2     7.42      3.63    8.83      570.43  \n",
            "3     7.84      6.18    6.36      290.78  \n",
            "4     8.62      0.82    5.53      505.16  \n"
          ]
        }
      ],
      "source": [
        "# Load the dataset\n",
        "credit_card_data = pd.read_csv('e_waste_dataset_with_profit.csv')\n",
        "\n",
        "# Print the shape of the dataset\n",
        "print(credit_card_data.shape)\n",
        "\n",
        "# Print the first few rows of the dataset\n",
        "print(credit_card_data.head())\n"
      ]
    },
    {
      "cell_type": "code",
      "execution_count": 16,
      "metadata": {},
      "outputs": [],
      "source": [
        "# Load your data\n",
        "X = credit_card_data.drop(['Category', 'Item', 'Profit ($)'], axis=1) # Drop the target variable\n",
        "y = credit_card_data['Profit ($)'] # Keep only the target variable\n",
        "# Split your data into training and test sets\n",
        "X_train, X_test, y_train, y_test = train_test_split(X, y, test_size=0.2, random_state=42)"
      ]
    },
    {
      "cell_type": "code",
      "execution_count": 17,
      "metadata": {},
      "outputs": [
        {
          "name": "stdout",
          "output_type": "stream",
          "text": [
            "(8000, 9)\n",
            "Index(['Gold', 'Silver', 'Platinum', 'Rhodium', 'Nickel', 'Tin', 'Lithium',\n",
            "       'Aluminum', 'Carbon'],\n",
            "      dtype='object')\n"
          ]
        }
      ],
      "source": [
        "# Check the shape of your DataFrame\n",
        "print(X_train.shape)\n",
        "\n",
        "# Check the column names of your DataFrame\n",
        "print(X_train.columns)"
      ]
    },
    {
      "cell_type": "code",
      "execution_count": 18,
      "metadata": {
        "id": "Yi9_bea9iw5s"
      },
      "outputs": [],
      "source": [
        "# Initialize the RuleFitClassifier\n",
        "rf = RuleFitRegressor()\n",
        "\n",
        "# Fit the model to your data\n",
        "rf.fit(X_train, y_train)\n",
        "\n",
        "# Use the model to make predictions\n",
        "predictions = rf.predict(X_test)"
      ]
    },
    {
      "cell_type": "code",
      "execution_count": 19,
      "metadata": {},
      "outputs": [
        {
          "data": {
            "text/html": [
              "<div>\n",
              "<style scoped>\n",
              "    .dataframe tbody tr th:only-of-type {\n",
              "        vertical-align: middle;\n",
              "    }\n",
              "\n",
              "    .dataframe tbody tr th {\n",
              "        vertical-align: top;\n",
              "    }\n",
              "\n",
              "    .dataframe thead th {\n",
              "        text-align: right;\n",
              "    }\n",
              "</style>\n",
              "<table border=\"1\" class=\"dataframe\">\n",
              "  <thead>\n",
              "    <tr style=\"text-align: right;\">\n",
              "      <th></th>\n",
              "      <th>rule</th>\n",
              "      <th>coef</th>\n",
              "    </tr>\n",
              "  </thead>\n",
              "  <tbody>\n",
              "    <tr>\n",
              "      <th>0</th>\n",
              "      <td>Gold</td>\n",
              "      <td>49.25</td>\n",
              "    </tr>\n",
              "    <tr>\n",
              "      <th>1</th>\n",
              "      <td>Silver</td>\n",
              "      <td>0.50</td>\n",
              "    </tr>\n",
              "    <tr>\n",
              "      <th>2</th>\n",
              "      <td>Platinum</td>\n",
              "      <td>53.71</td>\n",
              "    </tr>\n",
              "  </tbody>\n",
              "</table>\n",
              "</div>"
            ],
            "text/plain": [
              "       rule   coef\n",
              "0      Gold  49.25\n",
              "1    Silver   0.50\n",
              "2  Platinum  53.71"
            ]
          },
          "execution_count": 19,
          "metadata": {},
          "output_type": "execute_result"
        }
      ],
      "source": [
        "rule_df = rf.visualize()\n",
        "rule_df"
      ]
    },
    {
      "cell_type": "code",
      "execution_count": 20,
      "metadata": {},
      "outputs": [
        {
          "name": "stdout",
          "output_type": "stream",
          "text": [
            "MAE: 1.061747896385718\n",
            "MSE: 5.91225880952765\n",
            "R2 Score: 0.9998685273117945\n"
          ]
        }
      ],
      "source": [
        "# Calculate the mean absolute error\n",
        "mae = mean_absolute_error(y_test, predictions)\n",
        "\n",
        "# Calculate the mean squared error\n",
        "mse = mean_squared_error(y_test, predictions)\n",
        "\n",
        "# Calculate the R-squared score\n",
        "r2 = r2_score(y_test, predictions)\n",
        "\n",
        "# Print the metrics\n",
        "print(f'MAE: {mae}')\n",
        "print(f'MSE: {mse}')\n",
        "print(f'R2 Score: {r2}')"
      ]
    },
    {
      "cell_type": "code",
      "execution_count": 25,
      "metadata": {},
      "outputs": [
        {
          "ename": "AttributeError",
          "evalue": "'DataFrame' object has no attribute 'data'",
          "output_type": "error",
          "traceback": [
            "\u001b[0;31m---------------------------------------------------------------------------\u001b[0m",
            "\u001b[0;31mAttributeError\u001b[0m                            Traceback (most recent call last)",
            "\u001b[0;32m/var/folders/ww/fxcx3vln6zqfznfwhgmw5zl80000gn/T/ipykernel_65820/3362823344.py\u001b[0m in \u001b[0;36m?\u001b[0;34m()\u001b[0m\n\u001b[1;32m      6\u001b[0m                  \u001b[0mprecision_min\u001b[0m\u001b[0;34m=\u001b[0m\u001b[0;36m0.2\u001b[0m\u001b[0;34m,\u001b[0m\u001b[0;34m\u001b[0m\u001b[0;34m\u001b[0m\u001b[0m\n\u001b[1;32m      7\u001b[0m                  \u001b[0mrecall_min\u001b[0m\u001b[0;34m=\u001b[0m\u001b[0;36m0.01\u001b[0m\u001b[0;34m,\u001b[0m\u001b[0;34m\u001b[0m\u001b[0;34m\u001b[0m\u001b[0m\n\u001b[1;32m      8\u001b[0m                  feature_names=feature_names)\n\u001b[1;32m      9\u001b[0m \u001b[0;34m\u001b[0m\u001b[0m\n\u001b[0;32m---> 10\u001b[0;31m \u001b[0mX\u001b[0m\u001b[0;34m,\u001b[0m \u001b[0my\u001b[0m \u001b[0;34m=\u001b[0m \u001b[0mcredit_card_data\u001b[0m\u001b[0;34m.\u001b[0m\u001b[0mdata\u001b[0m\u001b[0;34m,\u001b[0m \u001b[0mcredit_card_data\u001b[0m\u001b[0;34m.\u001b[0m\u001b[0mtarget\u001b[0m \u001b[0;34m>\u001b[0m \u001b[0;36m25\u001b[0m\u001b[0;34m\u001b[0m\u001b[0;34m\u001b[0m\u001b[0m\n\u001b[0m\u001b[1;32m     11\u001b[0m \u001b[0mX_train\u001b[0m\u001b[0;34m,\u001b[0m \u001b[0my_train\u001b[0m \u001b[0;34m=\u001b[0m \u001b[0mX\u001b[0m\u001b[0;34m[\u001b[0m\u001b[0;34m:\u001b[0m\u001b[0mlen\u001b[0m\u001b[0;34m(\u001b[0m\u001b[0my\u001b[0m\u001b[0;34m)\u001b[0m\u001b[0;34m//\u001b[0m\u001b[0;36m2\u001b[0m\u001b[0;34m]\u001b[0m\u001b[0;34m,\u001b[0m \u001b[0my\u001b[0m\u001b[0;34m[\u001b[0m\u001b[0;34m:\u001b[0m\u001b[0mlen\u001b[0m\u001b[0;34m(\u001b[0m\u001b[0my\u001b[0m\u001b[0;34m)\u001b[0m\u001b[0;34m//\u001b[0m\u001b[0;36m2\u001b[0m\u001b[0;34m]\u001b[0m\u001b[0;34m\u001b[0m\u001b[0;34m\u001b[0m\u001b[0m\n\u001b[1;32m     12\u001b[0m \u001b[0mX_test\u001b[0m\u001b[0;34m,\u001b[0m \u001b[0my_test\u001b[0m \u001b[0;34m=\u001b[0m \u001b[0mX\u001b[0m\u001b[0;34m[\u001b[0m\u001b[0mlen\u001b[0m\u001b[0;34m(\u001b[0m\u001b[0my\u001b[0m\u001b[0;34m)\u001b[0m\u001b[0;34m//\u001b[0m\u001b[0;36m2\u001b[0m\u001b[0;34m:\u001b[0m\u001b[0;34m]\u001b[0m\u001b[0;34m,\u001b[0m \u001b[0my\u001b[0m\u001b[0;34m[\u001b[0m\u001b[0mlen\u001b[0m\u001b[0;34m(\u001b[0m\u001b[0my\u001b[0m\u001b[0;34m)\u001b[0m\u001b[0;34m//\u001b[0m\u001b[0;36m2\u001b[0m\u001b[0;34m:\u001b[0m\u001b[0;34m]\u001b[0m\u001b[0;34m\u001b[0m\u001b[0;34m\u001b[0m\u001b[0m\n\u001b[1;32m     13\u001b[0m \u001b[0mclf\u001b[0m\u001b[0;34m.\u001b[0m\u001b[0mfit\u001b[0m\u001b[0;34m(\u001b[0m\u001b[0mX_train\u001b[0m\u001b[0;34m,\u001b[0m \u001b[0my_train\u001b[0m\u001b[0;34m)\u001b[0m\u001b[0;34m\u001b[0m\u001b[0;34m\u001b[0m\u001b[0m\n",
            "\u001b[0;32m~/anaconda3/lib/python3.11/site-packages/pandas/core/generic.py\u001b[0m in \u001b[0;36m?\u001b[0;34m(self, name)\u001b[0m\n\u001b[1;32m   5898\u001b[0m             \u001b[0;32mand\u001b[0m \u001b[0mname\u001b[0m \u001b[0;32mnot\u001b[0m \u001b[0;32min\u001b[0m \u001b[0mself\u001b[0m\u001b[0;34m.\u001b[0m\u001b[0m_accessors\u001b[0m\u001b[0;34m\u001b[0m\u001b[0;34m\u001b[0m\u001b[0m\n\u001b[1;32m   5899\u001b[0m             \u001b[0;32mand\u001b[0m \u001b[0mself\u001b[0m\u001b[0;34m.\u001b[0m\u001b[0m_info_axis\u001b[0m\u001b[0;34m.\u001b[0m\u001b[0m_can_hold_identifiers_and_holds_name\u001b[0m\u001b[0;34m(\u001b[0m\u001b[0mname\u001b[0m\u001b[0;34m)\u001b[0m\u001b[0;34m\u001b[0m\u001b[0;34m\u001b[0m\u001b[0m\n\u001b[1;32m   5900\u001b[0m         ):\n\u001b[1;32m   5901\u001b[0m             \u001b[0;32mreturn\u001b[0m \u001b[0mself\u001b[0m\u001b[0;34m[\u001b[0m\u001b[0mname\u001b[0m\u001b[0;34m]\u001b[0m\u001b[0;34m\u001b[0m\u001b[0;34m\u001b[0m\u001b[0m\n\u001b[0;32m-> 5902\u001b[0;31m         \u001b[0;32mreturn\u001b[0m \u001b[0mobject\u001b[0m\u001b[0;34m.\u001b[0m\u001b[0m__getattribute__\u001b[0m\u001b[0;34m(\u001b[0m\u001b[0mself\u001b[0m\u001b[0;34m,\u001b[0m \u001b[0mname\u001b[0m\u001b[0;34m)\u001b[0m\u001b[0;34m\u001b[0m\u001b[0;34m\u001b[0m\u001b[0m\n\u001b[0m",
            "\u001b[0;31mAttributeError\u001b[0m: 'DataFrame' object has no attribute 'data'"
          ]
        }
      ],
      "source": [
        "feature_names = credit_card_data.drop('Profit ($)', axis=1).columns.tolist()\n",
        "\n",
        "\n",
        "clf = SkopeRulesClassifier(max_depth_duplication=None,\n",
        "                 n_estimators=30,\n",
        "                 precision_min=0.2,\n",
        "                 recall_min=0.01,\n",
        "                 feature_names=feature_names)\n",
        "\n",
        "X, y = credit_card_data.data, credit_card_data.target > 25\n",
        "X_train, y_train = X[:len(y)//2], y[:len(y)//2]\n",
        "X_test, y_test = X[len(y)//2:], y[len(y)//2:]\n",
        "clf.fit(X_train, y_train)\n",
        "y_score = clf._score_top_rules(X_test) # Get a risk score for each test example\n",
        "precision, recall, _ = precision_recall_curve(y_test, y_score)\n",
        "plt.plot(recall, precision)\n",
        "plt.xlabel('Recall')\n",
        "plt.ylabel('Precision')\n",
        "plt.title('Precision Recall curve')\n",
        "plt.show()\n"
      ]
    },
    {
      "cell_type": "code",
      "execution_count": null,
      "metadata": {},
      "outputs": [],
      "source": []
    }
  ],
  "metadata": {
    "colab": {
      "include_colab_link": true,
      "provenance": []
    },
    "kernelspec": {
      "display_name": "Python 3",
      "name": "python3"
    },
    "language_info": {
      "codemirror_mode": {
        "name": "ipython",
        "version": 3
      },
      "file_extension": ".py",
      "mimetype": "text/x-python",
      "name": "python",
      "nbconvert_exporter": "python",
      "pygments_lexer": "ipython3",
      "version": "3.11.5"
    }
  },
  "nbformat": 4,
  "nbformat_minor": 0
}
